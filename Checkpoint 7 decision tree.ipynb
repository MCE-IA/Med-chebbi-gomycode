{
 "cells": [
  {
   "cell_type": "code",
   "execution_count": 4,
   "metadata": {},
   "outputs": [
    {
     "name": "stderr",
     "output_type": "stream",
     "text": [
      "<frozen importlib._bootstrap>:219: RuntimeWarning: numpy.ufunc size changed, may indicate binary incompatibility. Expected 192 from C header, got 216 from PyObject\n"
     ]
    }
   ],
   "source": [
    "import pandas as pd\n",
    "titanic_tree=pd.read_csv(\"titanic-passengers.csv\",sep=\";\")"
   ]
  },
  {
   "cell_type": "code",
   "execution_count": 5,
   "metadata": {},
   "outputs": [
    {
     "name": "stdout",
     "output_type": "stream",
     "text": [
      "<class 'pandas.core.frame.DataFrame'>\n",
      "RangeIndex: 891 entries, 0 to 890\n",
      "Data columns (total 12 columns):\n",
      " #   Column       Non-Null Count  Dtype  \n",
      "---  ------       --------------  -----  \n",
      " 0   PassengerId  891 non-null    int64  \n",
      " 1   Survived     891 non-null    object \n",
      " 2   Pclass       891 non-null    int64  \n",
      " 3   Name         891 non-null    object \n",
      " 4   Sex          891 non-null    object \n",
      " 5   Age          714 non-null    float64\n",
      " 6   SibSp        891 non-null    int64  \n",
      " 7   Parch        891 non-null    int64  \n",
      " 8   Ticket       891 non-null    object \n",
      " 9   Fare         891 non-null    float64\n",
      " 10  Cabin        204 non-null    object \n",
      " 11  Embarked     889 non-null    object \n",
      "dtypes: float64(2), int64(4), object(6)\n",
      "memory usage: 83.7+ KB\n"
     ]
    }
   ],
   "source": [
    "titanic_tree.info()"
   ]
  },
  {
   "cell_type": "code",
   "execution_count": 6,
   "metadata": {},
   "outputs": [
    {
     "name": "stdout",
     "output_type": "stream",
     "text": [
      "<class 'pandas.core.frame.DataFrame'>\n",
      "RangeIndex: 891 entries, 0 to 890\n",
      "Data columns (total 12 columns):\n",
      " #   Column       Non-Null Count  Dtype  \n",
      "---  ------       --------------  -----  \n",
      " 0   PassengerId  891 non-null    int64  \n",
      " 1   Survived     891 non-null    object \n",
      " 2   Pclass       891 non-null    int64  \n",
      " 3   Name         891 non-null    object \n",
      " 4   Sex          891 non-null    int32  \n",
      " 5   Age          891 non-null    object \n",
      " 6   SibSp        891 non-null    int64  \n",
      " 7   Parch        891 non-null    int64  \n",
      " 8   Ticket       891 non-null    object \n",
      " 9   Fare         891 non-null    float64\n",
      " 10  Cabin        204 non-null    object \n",
      " 11  Embarked     889 non-null    object \n",
      "dtypes: float64(1), int32(1), int64(4), object(6)\n",
      "memory usage: 80.2+ KB\n"
     ]
    }
   ],
   "source": [
    "titanic_tree['Age']=titanic_tree.fillna(titanic_tree.mean())\n",
    "titanic_tree['Sex']=titanic_tree['Sex'].map( {'male': 0, 'female': 1 }).astype(int)\n",
    "titanic_tree.info()"
   ]
  },
  {
   "cell_type": "code",
   "execution_count": 8,
   "metadata": {},
   "outputs": [],
   "source": [
    "from sklearn.model_selection import train_test_split\n",
    "from sklearn import metrics"
   ]
  },
  {
   "cell_type": "code",
   "execution_count": 9,
   "metadata": {},
   "outputs": [],
   "source": [
    "features=['Sex','Age','SibSp','Parch']\n",
    "x=titanic_tree[features]\n",
    "y=titanic_tree['Survived']\n",
    "x_train,x_test,y_train,y_test=train_test_split(x,y,test_size=0.30,random_state=42)"
   ]
  },
  {
   "cell_type": "code",
   "execution_count": 10,
   "metadata": {},
   "outputs": [
    {
     "name": "stdout",
     "output_type": "stream",
     "text": [
      "0.7089552238805971\n"
     ]
    }
   ],
   "source": [
    "from sklearn import tree\n",
    "new_tree = tree.DecisionTreeClassifier(max_depth=10,random_state = 5)\n",
    "new_tree.fit(x_train, y_train)\n",
    "Y_pred = new_tree.predict(x_test)\n",
    "print(metrics.accuracy_score(y_test, Y_pred))"
   ]
  },
  {
   "cell_type": "code",
   "execution_count": 15,
   "metadata": {},
   "outputs": [
    {
     "data": {
      "text/plain": [
       "[Text(197.53824626865674, 207.55636363636364, 'X[0] <= 0.5\\ngini = 0.473\\nsamples = 623\\nvalue = [384, 239]'),\n",
       " Text(101.81417910447762, 187.7890909090909, 'X[3] <= 0.5\\ngini = 0.304\\nsamples = 407\\nvalue = [331, 76]'),\n",
       " Text(46.222388059701494, 168.0218181818182, 'X[1] <= 285.0\\ngini = 0.281\\nsamples = 343\\nvalue = [285, 58]'),\n",
       " Text(29.982089552238808, 148.25454545454545, 'X[1] <= 226.5\\ngini = 0.217\\nsamples = 97\\nvalue = [85, 12]'),\n",
       " Text(24.985074626865675, 128.48727272727274, 'X[1] <= 224.5\\ngini = 0.252\\nsamples = 81\\nvalue = [69, 12]'),\n",
       " Text(19.98805970149254, 108.72, 'X[1] <= 25.5\\ngini = 0.237\\nsamples = 80\\nvalue = [69, 11]'),\n",
       " Text(9.99402985074627, 88.95272727272729, 'X[1] <= 15.5\\ngini = 0.444\\nsamples = 6\\nvalue = [4, 2]'),\n",
       " Text(4.997014925373135, 69.18545454545455, 'gini = 0.0\\nsamples = 3\\nvalue = [3, 0]'),\n",
       " Text(14.991044776119404, 69.18545454545455, 'X[1] <= 19.5\\ngini = 0.444\\nsamples = 3\\nvalue = [1, 2]'),\n",
       " Text(9.99402985074627, 49.418181818181836, 'gini = 0.0\\nsamples = 1\\nvalue = [0, 1]'),\n",
       " Text(19.98805970149254, 49.418181818181836, 'X[1] <= 22.5\\ngini = 0.5\\nsamples = 2\\nvalue = [1, 1]'),\n",
       " Text(14.991044776119404, 29.650909090909096, 'gini = 0.0\\nsamples = 1\\nvalue = [1, 0]'),\n",
       " Text(24.985074626865675, 29.650909090909096, 'gini = 0.0\\nsamples = 1\\nvalue = [0, 1]'),\n",
       " Text(29.982089552238808, 88.95272727272729, 'X[1] <= 54.0\\ngini = 0.214\\nsamples = 74\\nvalue = [65, 9]'),\n",
       " Text(24.985074626865675, 69.18545454545455, 'gini = 0.0\\nsamples = 10\\nvalue = [10, 0]'),\n",
       " Text(34.97910447761194, 69.18545454545455, 'X[1] <= 58.5\\ngini = 0.242\\nsamples = 64\\nvalue = [55, 9]'),\n",
       " Text(29.982089552238808, 49.418181818181836, 'gini = 0.0\\nsamples = 1\\nvalue = [0, 1]'),\n",
       " Text(39.97611940298508, 49.418181818181836, 'X[1] <= 81.5\\ngini = 0.222\\nsamples = 63\\nvalue = [55, 8]'),\n",
       " Text(34.97910447761194, 29.650909090909096, 'gini = 0.0\\nsamples = 8\\nvalue = [8, 0]'),\n",
       " Text(44.97313432835821, 29.650909090909096, 'X[1] <= 83.0\\ngini = 0.249\\nsamples = 55\\nvalue = [47, 8]'),\n",
       " Text(39.97611940298508, 9.883636363636384, 'gini = 0.0\\nsamples = 1\\nvalue = [0, 1]'),\n",
       " Text(49.97014925373135, 9.883636363636384, 'gini = 0.226\\nsamples = 54\\nvalue = [47, 7]'),\n",
       " Text(29.982089552238808, 108.72, 'gini = 0.0\\nsamples = 1\\nvalue = [0, 1]'),\n",
       " Text(34.97910447761194, 128.48727272727274, 'gini = 0.0\\nsamples = 16\\nvalue = [16, 0]'),\n",
       " Text(62.462686567164184, 148.25454545454545, 'X[1] <= 302.5\\ngini = 0.304\\nsamples = 246\\nvalue = [200, 46]'),\n",
       " Text(52.46865671641791, 128.48727272727274, 'X[1] <= 291.0\\ngini = 0.444\\nsamples = 6\\nvalue = [2, 4]'),\n",
       " Text(47.47164179104478, 108.72, 'gini = 0.0\\nsamples = 2\\nvalue = [0, 2]'),\n",
       " Text(57.46567164179105, 108.72, 'X[1] <= 297.0\\ngini = 0.5\\nsamples = 4\\nvalue = [2, 2]'),\n",
       " Text(52.46865671641791, 88.95272727272729, 'gini = 0.0\\nsamples = 2\\nvalue = [2, 0]'),\n",
       " Text(62.462686567164184, 88.95272727272729, 'gini = 0.0\\nsamples = 2\\nvalue = [0, 2]'),\n",
       " Text(72.45671641791046, 128.48727272727274, 'X[1] <= 338.0\\ngini = 0.289\\nsamples = 240\\nvalue = [198, 42]'),\n",
       " Text(67.45970149253732, 108.72, 'gini = 0.0\\nsamples = 9\\nvalue = [9, 0]'),\n",
       " Text(77.4537313432836, 108.72, 'X[1] <= 339.5\\ngini = 0.298\\nsamples = 231\\nvalue = [189, 42]'),\n",
       " Text(72.45671641791046, 88.95272727272729, 'gini = 0.0\\nsamples = 1\\nvalue = [0, 1]'),\n",
       " Text(82.45074626865672, 88.95272727272729, 'X[2] <= 0.5\\ngini = 0.293\\nsamples = 230\\nvalue = [189, 41]'),\n",
       " Text(69.95820895522388, 69.18545454545455, 'X[1] <= 390.5\\ngini = 0.276\\nsamples = 206\\nvalue = [172, 34]'),\n",
       " Text(64.96119402985074, 49.418181818181836, 'gini = 0.0\\nsamples = 14\\nvalue = [14, 0]'),\n",
       " Text(74.95522388059702, 49.418181818181836, 'X[1] <= 461.5\\ngini = 0.291\\nsamples = 192\\nvalue = [158, 34]'),\n",
       " Text(64.96119402985074, 29.650909090909096, 'X[1] <= 443.5\\ngini = 0.466\\nsamples = 27\\nvalue = [17, 10]'),\n",
       " Text(59.964179104477616, 9.883636363636384, 'gini = 0.388\\nsamples = 19\\nvalue = [14, 5]'),\n",
       " Text(69.95820895522388, 9.883636363636384, 'gini = 0.469\\nsamples = 8\\nvalue = [3, 5]'),\n",
       " Text(84.94925373134329, 29.650909090909096, 'X[1] <= 509.5\\ngini = 0.249\\nsamples = 165\\nvalue = [141, 24]'),\n",
       " Text(79.95223880597015, 9.883636363636384, 'gini = 0.0\\nsamples = 19\\nvalue = [19, 0]'),\n",
       " Text(89.94626865671643, 9.883636363636384, 'gini = 0.275\\nsamples = 146\\nvalue = [122, 24]'),\n",
       " Text(94.94328358208956, 69.18545454545455, 'X[1] <= 382.0\\ngini = 0.413\\nsamples = 24\\nvalue = [17, 7]'),\n",
       " Text(89.94626865671643, 49.418181818181836, 'gini = 0.0\\nsamples = 1\\nvalue = [0, 1]'),\n",
       " Text(99.9402985074627, 49.418181818181836, 'X[1] <= 481.5\\ngini = 0.386\\nsamples = 23\\nvalue = [17, 6]'),\n",
       " Text(94.94328358208956, 29.650909090909096, 'gini = 0.0\\nsamples = 6\\nvalue = [6, 0]'),\n",
       " Text(104.93731343283582, 29.650909090909096, 'X[1] <= 663.5\\ngini = 0.457\\nsamples = 17\\nvalue = [11, 6]'),\n",
       " Text(99.9402985074627, 9.883636363636384, 'gini = 0.5\\nsamples = 10\\nvalue = [5, 5]'),\n",
       " Text(109.93432835820896, 9.883636363636384, 'gini = 0.245\\nsamples = 7\\nvalue = [6, 1]'),\n",
       " Text(157.40597014925373, 168.0218181818182, 'X[1] <= 549.5\\ngini = 0.404\\nsamples = 64\\nvalue = [46, 18]'),\n",
       " Text(122.42686567164179, 148.25454545454545, 'X[1] <= 165.5\\ngini = 0.26\\nsamples = 39\\nvalue = [33, 6]'),\n",
       " Text(109.93432835820896, 128.48727272727274, 'X[1] <= 76.5\\ngini = 0.117\\nsamples = 16\\nvalue = [15, 1]'),\n",
       " Text(104.93731343283582, 108.72, 'X[1] <= 65.0\\ngini = 0.219\\nsamples = 8\\nvalue = [7, 1]'),\n",
       " Text(99.9402985074627, 88.95272727272729, 'gini = 0.0\\nsamples = 7\\nvalue = [7, 0]'),\n",
       " Text(109.93432835820896, 88.95272727272729, 'gini = 0.0\\nsamples = 1\\nvalue = [0, 1]'),\n",
       " Text(114.9313432835821, 108.72, 'gini = 0.0\\nsamples = 8\\nvalue = [8, 0]'),\n",
       " Text(134.91940298507464, 128.48727272727274, 'X[1] <= 262.5\\ngini = 0.34\\nsamples = 23\\nvalue = [18, 5]'),\n",
       " Text(124.92537313432837, 108.72, 'X[3] <= 1.5\\ngini = 0.5\\nsamples = 6\\nvalue = [3, 3]'),\n",
       " Text(119.92835820895523, 88.95272727272729, 'X[2] <= 2.5\\ngini = 0.375\\nsamples = 4\\nvalue = [3, 1]'),\n",
       " Text(114.9313432835821, 69.18545454545455, 'X[1] <= 186.5\\ngini = 0.5\\nsamples = 2\\nvalue = [1, 1]'),\n",
       " Text(109.93432835820896, 49.418181818181836, 'gini = 0.0\\nsamples = 1\\nvalue = [0, 1]'),\n",
       " Text(119.92835820895523, 49.418181818181836, 'gini = 0.0\\nsamples = 1\\nvalue = [1, 0]'),\n",
       " Text(124.92537313432837, 69.18545454545455, 'gini = 0.0\\nsamples = 2\\nvalue = [2, 0]'),\n",
       " Text(129.9223880597015, 88.95272727272729, 'gini = 0.0\\nsamples = 2\\nvalue = [0, 2]'),\n",
       " Text(144.9134328358209, 108.72, 'X[1] <= 341.0\\ngini = 0.208\\nsamples = 17\\nvalue = [15, 2]'),\n",
       " Text(139.91641791044776, 88.95272727272729, 'gini = 0.0\\nsamples = 7\\nvalue = [7, 0]'),\n",
       " Text(149.91044776119404, 88.95272727272729, 'X[1] <= 351.0\\ngini = 0.32\\nsamples = 10\\nvalue = [8, 2]'),\n",
       " Text(144.9134328358209, 69.18545454545455, 'gini = 0.0\\nsamples = 1\\nvalue = [0, 1]'),\n",
       " Text(154.9074626865672, 69.18545454545455, 'X[1] <= 416.5\\ngini = 0.198\\nsamples = 9\\nvalue = [8, 1]'),\n",
       " Text(149.91044776119404, 49.418181818181836, 'X[1] <= 393.0\\ngini = 0.444\\nsamples = 3\\nvalue = [2, 1]'),\n",
       " Text(144.9134328358209, 29.650909090909096, 'gini = 0.0\\nsamples = 2\\nvalue = [2, 0]'),\n",
       " Text(154.9074626865672, 29.650909090909096, 'gini = 0.0\\nsamples = 1\\nvalue = [0, 1]'),\n",
       " Text(159.9044776119403, 49.418181818181836, 'gini = 0.0\\nsamples = 6\\nvalue = [6, 0]'),\n",
       " Text(192.38507462686567, 148.25454545454545, 'X[2] <= 2.5\\ngini = 0.499\\nsamples = 25\\nvalue = [13, 12]'),\n",
       " Text(187.38805970149255, 128.48727272727274, 'X[1] <= 749.5\\ngini = 0.49\\nsamples = 21\\nvalue = [9, 12]'),\n",
       " Text(169.89850746268658, 108.72, 'X[1] <= 592.0\\ngini = 0.486\\nsamples = 12\\nvalue = [7, 5]'),\n",
       " Text(164.90149253731343, 88.95272727272729, 'gini = 0.0\\nsamples = 2\\nvalue = [0, 2]'),\n",
       " Text(174.8955223880597, 88.95272727272729, 'X[2] <= 0.5\\ngini = 0.42\\nsamples = 10\\nvalue = [7, 3]'),\n",
       " Text(169.89850746268658, 69.18545454545455, 'gini = 0.0\\nsamples = 1\\nvalue = [0, 1]'),\n",
       " Text(179.89253731343285, 69.18545454545455, 'X[1] <= 630.5\\ngini = 0.346\\nsamples = 9\\nvalue = [7, 2]'),\n",
       " Text(169.89850746268658, 49.418181818181836, 'X[1] <= 609.5\\ngini = 0.5\\nsamples = 2\\nvalue = [1, 1]'),\n",
       " Text(164.90149253731343, 29.650909090909096, 'gini = 0.0\\nsamples = 1\\nvalue = [1, 0]'),\n",
       " Text(174.8955223880597, 29.650909090909096, 'gini = 0.0\\nsamples = 1\\nvalue = [0, 1]'),\n",
       " Text(189.88656716417913, 49.418181818181836, 'X[1] <= 704.5\\ngini = 0.245\\nsamples = 7\\nvalue = [6, 1]'),\n",
       " Text(184.88955223880598, 29.650909090909096, 'gini = 0.0\\nsamples = 4\\nvalue = [4, 0]'),\n",
       " Text(194.88358208955225, 29.650909090909096, 'X[1] <= 728.0\\ngini = 0.444\\nsamples = 3\\nvalue = [2, 1]'),\n",
       " Text(189.88656716417913, 9.883636363636384, 'gini = 0.0\\nsamples = 1\\nvalue = [0, 1]'),\n",
       " Text(199.8805970149254, 9.883636363636384, 'gini = 0.0\\nsamples = 2\\nvalue = [2, 0]'),\n",
       " Text(204.87761194029852, 108.72, 'X[1] <= 811.0\\ngini = 0.346\\nsamples = 9\\nvalue = [2, 7]'),\n",
       " Text(199.8805970149254, 88.95272727272729, 'gini = 0.0\\nsamples = 4\\nvalue = [0, 4]'),\n",
       " Text(209.87462686567164, 88.95272727272729, 'X[1] <= 823.0\\ngini = 0.48\\nsamples = 5\\nvalue = [2, 3]'),\n",
       " Text(204.87761194029852, 69.18545454545455, 'gini = 0.0\\nsamples = 1\\nvalue = [1, 0]'),\n",
       " Text(214.8716417910448, 69.18545454545455, 'X[2] <= 0.5\\ngini = 0.375\\nsamples = 4\\nvalue = [1, 3]'),\n",
       " Text(209.87462686567164, 49.418181818181836, 'X[1] <= 838.5\\ngini = 0.5\\nsamples = 2\\nvalue = [1, 1]'),\n",
       " Text(204.87761194029852, 29.650909090909096, 'gini = 0.0\\nsamples = 1\\nvalue = [0, 1]'),\n",
       " Text(214.8716417910448, 29.650909090909096, 'gini = 0.0\\nsamples = 1\\nvalue = [1, 0]'),\n",
       " Text(219.86865671641792, 49.418181818181836, 'gini = 0.0\\nsamples = 2\\nvalue = [0, 2]'),\n",
       " Text(197.38208955223882, 128.48727272727274, 'gini = 0.0\\nsamples = 4\\nvalue = [4, 0]'),\n",
       " Text(293.2623134328358, 187.7890909090909, 'X[2] <= 2.5\\ngini = 0.37\\nsamples = 216\\nvalue = [53, 163]'),\n",
       " Text(266.71567164179106, 168.0218181818182, 'X[3] <= 3.5\\ngini = 0.332\\nsamples = 200\\nvalue = [42, 158]'),\n",
       " Text(246.10298507462687, 148.25454545454545, 'X[1] <= 51.5\\ngini = 0.309\\nsamples = 194\\nvalue = [37, 157]'),\n",
       " Text(219.86865671641792, 128.48727272727274, 'X[1] <= 13.5\\ngini = 0.486\\nsamples = 12\\nvalue = [5, 7]'),\n",
       " Text(214.8716417910448, 108.72, 'gini = 0.0\\nsamples = 3\\nvalue = [0, 3]'),\n",
       " Text(224.86567164179107, 108.72, 'X[1] <= 21.0\\ngini = 0.494\\nsamples = 9\\nvalue = [5, 4]'),\n",
       " Text(219.86865671641792, 88.95272727272729, 'gini = 0.0\\nsamples = 2\\nvalue = [2, 0]'),\n",
       " Text(229.8626865671642, 88.95272727272729, 'X[1] <= 35.5\\ngini = 0.49\\nsamples = 7\\nvalue = [3, 4]'),\n",
       " Text(224.86567164179107, 69.18545454545455, 'gini = 0.0\\nsamples = 2\\nvalue = [0, 2]'),\n",
       " Text(234.85970149253734, 69.18545454545455, 'X[2] <= 0.5\\ngini = 0.48\\nsamples = 5\\nvalue = [3, 2]'),\n",
       " Text(229.8626865671642, 49.418181818181836, 'gini = 0.0\\nsamples = 1\\nvalue = [0, 1]'),\n",
       " Text(239.85671641791046, 49.418181818181836, 'X[1] <= 40.5\\ngini = 0.375\\nsamples = 4\\nvalue = [3, 1]'),\n",
       " Text(234.85970149253734, 29.650909090909096, 'X[1] <= 39.5\\ngini = 0.5\\nsamples = 2\\nvalue = [1, 1]'),\n",
       " Text(229.8626865671642, 9.883636363636384, 'gini = 0.0\\nsamples = 1\\nvalue = [1, 0]'),\n",
       " Text(239.85671641791046, 9.883636363636384, 'gini = 0.0\\nsamples = 1\\nvalue = [0, 1]'),\n",
       " Text(244.85373134328358, 29.650909090909096, 'gini = 0.0\\nsamples = 2\\nvalue = [2, 0]'),\n",
       " Text(272.33731343283586, 128.48727272727274, 'X[1] <= 742.5\\ngini = 0.29\\nsamples = 182\\nvalue = [32, 150]'),\n",
       " Text(259.844776119403, 108.72, 'X[1] <= 729.0\\ngini = 0.314\\nsamples = 154\\nvalue = [30, 124]'),\n",
       " Text(254.84776119402986, 88.95272727272729, 'X[1] <= 112.0\\ngini = 0.301\\nsamples = 152\\nvalue = [28, 124]'),\n",
       " Text(249.85074626865674, 69.18545454545455, 'gini = 0.0\\nsamples = 10\\nvalue = [0, 10]'),\n",
       " Text(259.844776119403, 69.18545454545455, 'X[1] <= 119.0\\ngini = 0.317\\nsamples = 142\\nvalue = [28, 114]'),\n",
       " Text(254.84776119402986, 49.418181818181836, 'gini = 0.0\\nsamples = 1\\nvalue = [1, 0]'),\n",
       " Text(264.84179104477613, 49.418181818181836, 'X[2] <= 0.5\\ngini = 0.31\\nsamples = 141\\nvalue = [27, 114]'),\n",
       " Text(254.84776119402986, 29.650909090909096, 'X[1] <= 237.0\\ngini = 0.348\\nsamples = 89\\nvalue = [20, 69]'),\n",
       " Text(249.85074626865674, 9.883636363636384, 'gini = 0.444\\nsamples = 15\\nvalue = [5, 10]'),\n",
       " Text(259.844776119403, 9.883636363636384, 'gini = 0.323\\nsamples = 74\\nvalue = [15, 59]'),\n",
       " Text(274.83582089552243, 29.650909090909096, 'X[1] <= 638.5\\ngini = 0.233\\nsamples = 52\\nvalue = [7, 45]'),\n",
       " Text(269.8388059701493, 9.883636363636384, 'gini = 0.211\\nsamples = 50\\nvalue = [6, 44]'),\n",
       " Text(279.8328358208955, 9.883636363636384, 'gini = 0.5\\nsamples = 2\\nvalue = [1, 1]'),\n",
       " Text(264.84179104477613, 88.95272727272729, 'gini = 0.0\\nsamples = 2\\nvalue = [2, 0]'),\n",
       " Text(284.8298507462687, 108.72, 'X[1] <= 807.5\\ngini = 0.133\\nsamples = 28\\nvalue = [2, 26]'),\n",
       " Text(279.8328358208955, 88.95272727272729, 'gini = 0.0\\nsamples = 12\\nvalue = [0, 12]'),\n",
       " Text(289.8268656716418, 88.95272727272729, 'X[1] <= 819.0\\ngini = 0.219\\nsamples = 16\\nvalue = [2, 14]'),\n",
       " Text(284.8298507462687, 69.18545454545455, 'gini = 0.0\\nsamples = 1\\nvalue = [1, 0]'),\n",
       " Text(294.8238805970149, 69.18545454545455, 'X[2] <= 0.5\\ngini = 0.124\\nsamples = 15\\nvalue = [1, 14]'),\n",
       " Text(289.8268656716418, 49.418181818181836, 'gini = 0.0\\nsamples = 10\\nvalue = [0, 10]'),\n",
       " Text(299.82089552238807, 49.418181818181836, 'X[3] <= 0.5\\ngini = 0.32\\nsamples = 5\\nvalue = [1, 4]'),\n",
       " Text(294.8238805970149, 29.650909090909096, 'X[1] <= 843.0\\ngini = 0.444\\nsamples = 3\\nvalue = [1, 2]'),\n",
       " Text(289.8268656716418, 9.883636363636384, 'gini = 0.0\\nsamples = 1\\nvalue = [0, 1]'),\n",
       " Text(299.82089552238807, 9.883636363636384, 'gini = 0.5\\nsamples = 2\\nvalue = [1, 1]'),\n",
       " Text(304.8179104477612, 29.650909090909096, 'gini = 0.0\\nsamples = 2\\nvalue = [0, 2]'),\n",
       " Text(287.32835820895525, 148.25454545454545, 'X[1] <= 97.0\\ngini = 0.278\\nsamples = 6\\nvalue = [5, 1]'),\n",
       " Text(282.3313432835821, 128.48727272727274, 'gini = 0.0\\nsamples = 1\\nvalue = [0, 1]'),\n",
       " Text(292.3253731343284, 128.48727272727274, 'gini = 0.0\\nsamples = 5\\nvalue = [5, 0]'),\n",
       " Text(319.8089552238806, 168.0218181818182, 'X[3] <= 0.5\\ngini = 0.43\\nsamples = 16\\nvalue = [11, 5]'),\n",
       " Text(314.81194029850747, 148.25454545454545, 'gini = 0.0\\nsamples = 2\\nvalue = [0, 2]'),\n",
       " Text(324.80597014925377, 148.25454545454545, 'X[1] <= 376.0\\ngini = 0.337\\nsamples = 14\\nvalue = [11, 3]'),\n",
       " Text(319.8089552238806, 128.48727272727274, 'X[1] <= 286.0\\ngini = 0.469\\nsamples = 8\\nvalue = [5, 3]'),\n",
       " Text(314.81194029850747, 108.72, 'X[1] <= 104.5\\ngini = 0.408\\nsamples = 7\\nvalue = [5, 2]'),\n",
       " Text(309.8149253731344, 88.95272727272729, 'X[1] <= 47.0\\ngini = 0.5\\nsamples = 4\\nvalue = [2, 2]'),\n",
       " Text(304.8179104477612, 69.18545454545455, 'gini = 0.0\\nsamples = 1\\nvalue = [1, 0]'),\n",
       " Text(314.81194029850747, 69.18545454545455, 'X[2] <= 4.5\\ngini = 0.444\\nsamples = 3\\nvalue = [1, 2]'),\n",
       " Text(309.8149253731344, 49.418181818181836, 'gini = 0.0\\nsamples = 2\\nvalue = [0, 2]'),\n",
       " Text(319.8089552238806, 49.418181818181836, 'gini = 0.0\\nsamples = 1\\nvalue = [1, 0]'),\n",
       " Text(319.8089552238806, 88.95272727272729, 'gini = 0.0\\nsamples = 3\\nvalue = [3, 0]'),\n",
       " Text(324.80597014925377, 108.72, 'gini = 0.0\\nsamples = 1\\nvalue = [0, 1]'),\n",
       " Text(329.80298507462686, 128.48727272727274, 'gini = 0.0\\nsamples = 6\\nvalue = [6, 0]')]"
      ]
     },
     "execution_count": 15,
     "metadata": {},
     "output_type": "execute_result"
    },
    {
     "data": {
      "image/png": "[encoded data removed]",
      "text/plain": [
       "<Figure size 432x288 with 1 Axes>"
      ]
     },
     "metadata": {
      "needs_background": "light"
     },
     "output_type": "display_data"
    }
   ],
   "source": [
    "from sklearn.tree import plot_tree\n",
    "\n",
    "plot_tree(new_tree,max_depth=10)"
   ]
  },
  {
   "cell_type": "code",
   "execution_count": 1,
   "metadata": {},
   "outputs": [
    {
     "name": "stdout",
     "output_type": "stream",
     "text": [
      "Collecting graphviz\n",
      "  Downloading graphviz-0.16-py2.py3-none-any.whl (19 kB)\n",
      "Installing collected packages: graphviz\n",
      "Successfully installed graphviz-0.16\n"
     ]
    }
   ],
   "source": [
    "!pip install graphviz"
   ]
  },
  {
   "cell_type": "code",
   "execution_count": 11,
   "metadata": {},
   "outputs": [
    {
     "ename": "ExecutableNotFound",
     "evalue": "failed to execute ['dot', '-Kdot', '-Tpdf', '-O', 'data'], make sure the Graphviz executables are on your systems' PATH",
     "output_type": "error",
     "traceback": [
      "\u001b[1;31m---------------------------------------------------------------------------\u001b[0m",
      "\u001b[1;31mFileNotFoundError\u001b[0m                         Traceback (most recent call last)",
      "\u001b[1;32m~\\Anaconda3\\lib\\site-packages\\graphviz\\backend.py\u001b[0m in \u001b[0;36mrun\u001b[1;34m(cmd, input, capture_output, check, encoding, quiet, **kwargs)\u001b[0m\n\u001b[0;32m    163\u001b[0m     \u001b[1;32mtry\u001b[0m\u001b[1;33m:\u001b[0m\u001b[1;33m\u001b[0m\u001b[1;33m\u001b[0m\u001b[0m\n\u001b[1;32m--> 164\u001b[1;33m         \u001b[0mproc\u001b[0m \u001b[1;33m=\u001b[0m \u001b[0msubprocess\u001b[0m\u001b[1;33m.\u001b[0m\u001b[0mPopen\u001b[0m\u001b[1;33m(\u001b[0m\u001b[0mcmd\u001b[0m\u001b[1;33m,\u001b[0m \u001b[0mstartupinfo\u001b[0m\u001b[1;33m=\u001b[0m\u001b[0mget_startupinfo\u001b[0m\u001b[1;33m(\u001b[0m\u001b[1;33m)\u001b[0m\u001b[1;33m,\u001b[0m \u001b[1;33m**\u001b[0m\u001b[0mkwargs\u001b[0m\u001b[1;33m)\u001b[0m\u001b[1;33m\u001b[0m\u001b[1;33m\u001b[0m\u001b[0m\n\u001b[0m\u001b[0;32m    165\u001b[0m     \u001b[1;32mexcept\u001b[0m \u001b[0mOSError\u001b[0m \u001b[1;32mas\u001b[0m \u001b[0me\u001b[0m\u001b[1;33m:\u001b[0m\u001b[1;33m\u001b[0m\u001b[1;33m\u001b[0m\u001b[0m\n",
      "\u001b[1;32m~\\Anaconda3\\lib\\subprocess.py\u001b[0m in \u001b[0;36m__init__\u001b[1;34m(self, args, bufsize, executable, stdin, stdout, stderr, preexec_fn, close_fds, shell, cwd, env, universal_newlines, startupinfo, creationflags, restore_signals, start_new_session, pass_fds, encoding, errors, text)\u001b[0m\n\u001b[0;32m    853\u001b[0m \u001b[1;33m\u001b[0m\u001b[0m\n\u001b[1;32m--> 854\u001b[1;33m             self._execute_child(args, executable, preexec_fn, close_fds,\n\u001b[0m\u001b[0;32m    855\u001b[0m                                 \u001b[0mpass_fds\u001b[0m\u001b[1;33m,\u001b[0m \u001b[0mcwd\u001b[0m\u001b[1;33m,\u001b[0m \u001b[0menv\u001b[0m\u001b[1;33m,\u001b[0m\u001b[1;33m\u001b[0m\u001b[1;33m\u001b[0m\u001b[0m\n",
      "\u001b[1;32m~\\Anaconda3\\lib\\subprocess.py\u001b[0m in \u001b[0;36m_execute_child\u001b[1;34m(self, args, executable, preexec_fn, close_fds, pass_fds, cwd, env, startupinfo, creationflags, shell, p2cread, p2cwrite, c2pread, c2pwrite, errread, errwrite, unused_restore_signals, unused_start_new_session)\u001b[0m\n\u001b[0;32m   1306\u001b[0m             \u001b[1;32mtry\u001b[0m\u001b[1;33m:\u001b[0m\u001b[1;33m\u001b[0m\u001b[1;33m\u001b[0m\u001b[0m\n\u001b[1;32m-> 1307\u001b[1;33m                 hp, ht, pid, tid = _winapi.CreateProcess(executable, args,\n\u001b[0m\u001b[0;32m   1308\u001b[0m                                          \u001b[1;31m# no special security\u001b[0m\u001b[1;33m\u001b[0m\u001b[1;33m\u001b[0m\u001b[1;33m\u001b[0m\u001b[0m\n",
      "\u001b[1;31mFileNotFoundError\u001b[0m: [WinError 2] Le fichier spécifié est introuvable",
      "\nDuring handling of the above exception, another exception occurred:\n",
      "\u001b[1;31mExecutableNotFound\u001b[0m                        Traceback (most recent call last)",
      "\u001b[1;32m<ipython-input-11-c0c8527a1a6f>\u001b[0m in \u001b[0;36m<module>\u001b[1;34m\u001b[0m\n\u001b[0;32m      2\u001b[0m \u001b[0mdot_data\u001b[0m\u001b[1;33m=\u001b[0m\u001b[0mtree\u001b[0m\u001b[1;33m.\u001b[0m\u001b[0mexport_graphviz\u001b[0m\u001b[1;33m(\u001b[0m\u001b[0mnew_tree\u001b[0m\u001b[1;33m,\u001b[0m\u001b[0mout_file\u001b[0m\u001b[1;33m=\u001b[0m\u001b[1;32mNone\u001b[0m\u001b[1;33m)\u001b[0m\u001b[1;33m\u001b[0m\u001b[1;33m\u001b[0m\u001b[0m\n\u001b[0;32m      3\u001b[0m \u001b[0mgraph\u001b[0m\u001b[1;33m=\u001b[0m\u001b[0mgraphviz\u001b[0m\u001b[1;33m.\u001b[0m\u001b[0mSource\u001b[0m\u001b[1;33m(\u001b[0m\u001b[0mdot_data\u001b[0m\u001b[1;33m)\u001b[0m\u001b[1;33m\u001b[0m\u001b[1;33m\u001b[0m\u001b[0m\n\u001b[1;32m----> 4\u001b[1;33m \u001b[0mgraph\u001b[0m\u001b[1;33m.\u001b[0m\u001b[0mrender\u001b[0m\u001b[1;33m(\u001b[0m\u001b[1;34m\"data\"\u001b[0m\u001b[1;33m)\u001b[0m\u001b[1;33m\u001b[0m\u001b[1;33m\u001b[0m\u001b[0m\n\u001b[0m\u001b[0;32m      5\u001b[0m \u001b[0mgraph\u001b[0m\u001b[1;33m\u001b[0m\u001b[1;33m\u001b[0m\u001b[0m\n",
      "\u001b[1;32m~\\Anaconda3\\lib\\site-packages\\graphviz\\files.py\u001b[0m in \u001b[0;36mrender\u001b[1;34m(self, filename, directory, view, cleanup, format, renderer, formatter, quiet, quiet_view)\u001b[0m\n\u001b[0;32m    241\u001b[0m             \u001b[0mformat\u001b[0m \u001b[1;33m=\u001b[0m \u001b[0mself\u001b[0m\u001b[1;33m.\u001b[0m\u001b[0m_format\u001b[0m\u001b[1;33m\u001b[0m\u001b[1;33m\u001b[0m\u001b[0m\n\u001b[0;32m    242\u001b[0m \u001b[1;33m\u001b[0m\u001b[0m\n\u001b[1;32m--> 243\u001b[1;33m         rendered = backend.render(self._engine, format, filepath,\n\u001b[0m\u001b[0;32m    244\u001b[0m                                   \u001b[0mrenderer\u001b[0m\u001b[1;33m=\u001b[0m\u001b[0mrenderer\u001b[0m\u001b[1;33m,\u001b[0m \u001b[0mformatter\u001b[0m\u001b[1;33m=\u001b[0m\u001b[0mformatter\u001b[0m\u001b[1;33m,\u001b[0m\u001b[1;33m\u001b[0m\u001b[1;33m\u001b[0m\u001b[0m\n\u001b[0;32m    245\u001b[0m                                   quiet=quiet)\n",
      "\u001b[1;32m~\\Anaconda3\\lib\\site-packages\\graphviz\\backend.py\u001b[0m in \u001b[0;36mrender\u001b[1;34m(***failed resolving arguments***)\u001b[0m\n\u001b[0;32m    221\u001b[0m         \u001b[0mcwd\u001b[0m \u001b[1;33m=\u001b[0m \u001b[1;32mNone\u001b[0m\u001b[1;33m\u001b[0m\u001b[1;33m\u001b[0m\u001b[0m\n\u001b[0;32m    222\u001b[0m \u001b[1;33m\u001b[0m\u001b[0m\n\u001b[1;32m--> 223\u001b[1;33m     \u001b[0mrun\u001b[0m\u001b[1;33m(\u001b[0m\u001b[0mcmd\u001b[0m\u001b[1;33m,\u001b[0m \u001b[0mcapture_output\u001b[0m\u001b[1;33m=\u001b[0m\u001b[1;32mTrue\u001b[0m\u001b[1;33m,\u001b[0m \u001b[0mcwd\u001b[0m\u001b[1;33m=\u001b[0m\u001b[0mcwd\u001b[0m\u001b[1;33m,\u001b[0m \u001b[0mcheck\u001b[0m\u001b[1;33m=\u001b[0m\u001b[1;32mTrue\u001b[0m\u001b[1;33m,\u001b[0m \u001b[0mquiet\u001b[0m\u001b[1;33m=\u001b[0m\u001b[0mquiet\u001b[0m\u001b[1;33m)\u001b[0m\u001b[1;33m\u001b[0m\u001b[1;33m\u001b[0m\u001b[0m\n\u001b[0m\u001b[0;32m    224\u001b[0m     \u001b[1;32mreturn\u001b[0m \u001b[0mrendered\u001b[0m\u001b[1;33m\u001b[0m\u001b[1;33m\u001b[0m\u001b[0m\n\u001b[0;32m    225\u001b[0m \u001b[1;33m\u001b[0m\u001b[0m\n",
      "\u001b[1;32m~\\Anaconda3\\lib\\site-packages\\graphviz\\backend.py\u001b[0m in \u001b[0;36mrun\u001b[1;34m(cmd, input, capture_output, check, encoding, quiet, **kwargs)\u001b[0m\n\u001b[0;32m    165\u001b[0m     \u001b[1;32mexcept\u001b[0m \u001b[0mOSError\u001b[0m \u001b[1;32mas\u001b[0m \u001b[0me\u001b[0m\u001b[1;33m:\u001b[0m\u001b[1;33m\u001b[0m\u001b[1;33m\u001b[0m\u001b[0m\n\u001b[0;32m    166\u001b[0m         \u001b[1;32mif\u001b[0m \u001b[0me\u001b[0m\u001b[1;33m.\u001b[0m\u001b[0merrno\u001b[0m \u001b[1;33m==\u001b[0m \u001b[0merrno\u001b[0m\u001b[1;33m.\u001b[0m\u001b[0mENOENT\u001b[0m\u001b[1;33m:\u001b[0m\u001b[1;33m\u001b[0m\u001b[1;33m\u001b[0m\u001b[0m\n\u001b[1;32m--> 167\u001b[1;33m             \u001b[1;32mraise\u001b[0m \u001b[0mExecutableNotFound\u001b[0m\u001b[1;33m(\u001b[0m\u001b[0mcmd\u001b[0m\u001b[1;33m)\u001b[0m\u001b[1;33m\u001b[0m\u001b[1;33m\u001b[0m\u001b[0m\n\u001b[0m\u001b[0;32m    168\u001b[0m         \u001b[1;32melse\u001b[0m\u001b[1;33m:\u001b[0m\u001b[1;33m\u001b[0m\u001b[1;33m\u001b[0m\u001b[0m\n\u001b[0;32m    169\u001b[0m             \u001b[1;32mraise\u001b[0m\u001b[1;33m\u001b[0m\u001b[1;33m\u001b[0m\u001b[0m\n",
      "\u001b[1;31mExecutableNotFound\u001b[0m: failed to execute ['dot', '-Kdot', '-Tpdf', '-O', 'data'], make sure the Graphviz executables are on your systems' PATH"
     ]
    }
   ],
   "source": [
    "import graphviz\n",
    "dot_data=tree.export_graphviz(new_tree,out_file=None)\n",
    "graph=graphviz.Source(dot_data)\n",
    "graph.render(\"data\")\n",
    "graph"
   ]
  },
  {
   "cell_type": "code",
   "execution_count": 22,
   "metadata": {},
   "outputs": [
    {
     "name": "stdout",
     "output_type": "stream",
     "text": [
      "0.6343283582089553\n"
     ]
    }
   ],
   "source": [
    "from sklearn import tree\n",
    "new_tree = tree.DecisionTreeClassifier(max_depth=100,random_state = 5)\n",
    "new_tree.fit(x_train, y_train)\n",
    "Y_pred = new_tree.predict(x_test)\n",
    "print(metrics.accuracy_score(y_test, Y_pred))"
   ]
  },
  {
   "cell_type": "code",
   "execution_count": 35,
   "metadata": {},
   "outputs": [
    {
     "data": {
      "text/plain": [
       "0.6716417910447762"
      ]
     },
     "execution_count": 35,
     "metadata": {},
     "output_type": "execute_result"
    }
   ],
   "source": [
    "from sklearn.ensemble import RandomForestClassifier\n",
    "Ran_tree = RandomForestClassifier(n_estimators=300)\n",
    "Ran_tree.fit(x_train,y_train)\n",
    "y_predict=Ran_tree.predict(x_test)\n",
    "metrics.accuracy_score(y_test,y_predict)"
   ]
  },
  {
   "cell_type": "markdown",
   "metadata": {},
   "source": [
    "The accuracy obtained with the random tree is not far from the accuracy obtained with the decision tree"
   ]
  },
  {
   "cell_type": "code",
   "execution_count": null,
   "metadata": {},
   "outputs": [],
   "source": []
  }
 ],
 "metadata": {
  "kernelspec": {
   "display_name": "Python 3",
   "language": "python",
   "name": "python3"
  },
  "language_info": {
   "codemirror_mode": {
    "name": "ipython",
    "version": 3
   },
   "file_extension": ".py",
   "mimetype": "text/x-python",
   "name": "python",
   "nbconvert_exporter": "python",
   "pygments_lexer": "ipython3",
   "version": "3.8.3"
  }
 },
 "nbformat": 4,
 "nbformat_minor": 4
}
